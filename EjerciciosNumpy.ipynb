{
 "cells": [
  {
   "cell_type": "markdown",
   "metadata": {},
   "source": [
    "# Ejercicios Numpy"
   ]
  },
  {
   "cell_type": "code",
   "execution_count": 1,
   "metadata": {},
   "outputs": [],
   "source": [
    "import streamlit as st\n",
    "import pandas as pd\n",
    "import numpy as np\n",
    "import time\n",
    "import uber_display\n",
    "from scipy import stats"
   ]
  },
  {
   "cell_type": "code",
   "execution_count": 3,
   "metadata": {},
   "outputs": [],
   "source": [
    "\"# Numpy and Pandas Tutorial\"\n",
    "\"### Semana i 2019\"\n",
    "\n",
    "\"Made in Streamlit\"\n",
    "\n",
    "if st.checkbox('Show Uber Data'):\n",
    "    st.subheader('Uber data data')\n",
    "    uber_display.main()"
   ]
  },
  {
   "cell_type": "code",
   "execution_count": 4,
   "metadata": {},
   "outputs": [
    {
     "data": {
      "text/plain": [
       "'Numpy version : 1.15.1'"
      ]
     },
     "execution_count": 4,
     "metadata": {},
     "output_type": "execute_result"
    }
   ],
   "source": [
    "\"\"\"# Numpy exercises  \"\"\"\n",
    "\n",
    "\"- **Show numpy version**\"\n",
    "version = np.__version__\n",
    "result = \"Numpy version : {}\".format(version)\n",
    "\n",
    "# answer\n",
    "result \n"
   ]
  },
  {
   "cell_type": "code",
   "execution_count": 5,
   "metadata": {},
   "outputs": [
    {
     "data": {
      "text/plain": [
       "array([0, 1, 2, 3, 4, 5, 6, 7])"
      ]
     },
     "execution_count": 5,
     "metadata": {},
     "output_type": "execute_result"
    }
   ],
   "source": [
    "\"- **Create the array :** \"\n",
    "\"   *[0, 1, 2, 3, 4, 5, 6, 7, 8, 9]*\"\n",
    "\n",
    "# answer\n",
    "result = np.array([0,1,2,3,4,5,6,7,])\n",
    "\"Answer\"\n",
    "result"
   ]
  },
  {
   "cell_type": "code",
   "execution_count": 7,
   "metadata": {},
   "outputs": [
    {
     "data": {
      "text/plain": [
       "22"
      ]
     },
     "execution_count": 7,
     "metadata": {},
     "output_type": "execute_result"
    }
   ],
   "source": [
    "\"- **Select the cell located in row 2 column 2 from this array**\"\n",
    "\n",
    "arr = np.array(([21, 22, 23], [11, 22, 33], [43, 77, 89]))\n",
    "\"*Array*\"\n",
    "arr\n",
    "\n",
    "# answer\n",
    "result = arr[1][1]\n",
    "result \n"
   ]
  },
  {
   "cell_type": "code",
   "execution_count": 9,
   "metadata": {},
   "outputs": [
    {
     "data": {
      "text/plain": [
       "array([21, 11, 43])"
      ]
     },
     "execution_count": 9,
     "metadata": {},
     "output_type": "execute_result"
    }
   ],
   "source": [
    "\"- **Select the column with index 0**\"\n",
    "arr = np.array(([21, 22, 23], [11, 22, 33], [43, 77, 89]))\n",
    "arr\n",
    "\n",
    "# answer\n",
    "result = arr.T[0]\n",
    "result"
   ]
  },
  {
   "cell_type": "code",
   "execution_count": 15,
   "metadata": {},
   "outputs": [
    {
     "data": {
      "text/plain": [
       "array([1, 3, 5, 7, 9])"
      ]
     },
     "execution_count": 15,
     "metadata": {},
     "output_type": "execute_result"
    }
   ],
   "source": [
    "\"- **Extract all the odd numbers in the next array**\"\n",
    "\"   *[0, 1, 2, 3, 4, 5, 6, 7, 8, 9]*\"\n",
    "\n",
    "arr = np.array([1, 2, 3, 4, 5, 6, 7, 8, 9])\n",
    "\n",
    "arr = arr[arr % 2 == 1 ]\n",
    "    \n",
    "result = arr\n",
    "\n",
    "result"
   ]
  },
  {
   "cell_type": "code",
   "execution_count": null,
   "metadata": {},
   "outputs": [],
   "source": [
    "\n",
    "\"\"\"- **Replace de odd numbers with negative numbers in the next array**\"\"\"\n",
    "\"   *[0, 1, 2, 3, 4, 5, 6, 7, 8, 9]*\"\n",
    "\n",
    "arr = np.array([0, 1, 2, 3, 4, 5, 6, 7, 8, 9])\n",
    "\n",
    "# answer\n",
    "l = []\n",
    "for x in range(len(arr)):\n",
    "    if(arr[x] % 2 == 1):\n",
    "        l.append(-arr[x])\n",
    "    else:\n",
    "        l.append(arr[x])\n",
    "    \n",
    "\n",
    "result = l\n",
    "\n",
    "result"
   ]
  },
  {
   "cell_type": "code",
   "execution_count": 22,
   "metadata": {},
   "outputs": [
    {
     "data": {
      "text/plain": [
       "array([[0, 1, 2, 3, 4],\n",
       "       [5, 6, 7, 8, 9]])"
      ]
     },
     "execution_count": 22,
     "metadata": {},
     "output_type": "execute_result"
    }
   ],
   "source": [
    "\"- **Reshape the next array from 1D to 2D**\"\n",
    "\"   *[0, 1, 2, 3, 4, 5, 6, 7, 8, 9]*\"\n",
    "\n",
    "arr = np.arange(10)\n",
    "\n",
    "# answer\n",
    "arr = arr.reshape([2,5])\n",
    "\n",
    "result = arr\n",
    "result"
   ]
  },
  {
   "cell_type": "code",
   "execution_count": 4,
   "metadata": {},
   "outputs": [
    {
     "data": {
      "text/plain": [
       "6.708203932499369"
      ]
     },
     "execution_count": 4,
     "metadata": {},
     "output_type": "execute_result"
    }
   ],
   "source": [
    "\n",
    "\"- **Compute euclidian distance between A and B **\"\n",
    "\"A\"\n",
    "a = np.array([1,2,3,4,5])\n",
    "a\n",
    "\n",
    "\"B\"\n",
    "b = np.array([4,5,6,7,8])\n",
    "b\n",
    "\n",
    "# Answers\n",
    "\n",
    "result = np.linalg.norm(a-b)\n",
    "result"
   ]
  },
  {
   "cell_type": "code",
   "execution_count": 11,
   "metadata": {},
   "outputs": [
    {
     "data": {
      "text/plain": [
       "b'1.5'"
      ]
     },
     "execution_count": 11,
     "metadata": {},
     "output_type": "execute_result"
    }
   ],
   "source": [
    "\"- **Find the most frequent value of petal length (3rd column) in the [iris dataset](https://archive.ics.uci.edu/ml/machine-learning-databases/iris/iris.data)**\"\n",
    "\n",
    "def downloadIrisDataset():\n",
    "    url = 'https://archive.ics.uci.edu/ml/machine-learning-databases/iris/iris.data'\n",
    "    iris = np.genfromtxt(url, delimiter=',', dtype='object')\n",
    "    return iris\n",
    "\"*Dataset*\"\n",
    "\n",
    "iris = downloadIrisDataset()\n",
    "names = ('sepallength', 'sepalwidth', 'petallength', 'petalwidth', 'species')\n",
    "#print(iris)\n",
    "# answer\n",
    "#print(iris.T[2])\n",
    "moda = stats.mode(iris.T[2])\n",
    "\n",
    "result = moda[0][0]\n",
    "result"
   ]
  }
 ],
 "metadata": {
  "kernelspec": {
   "display_name": "Python 3",
   "language": "python",
   "name": "python3"
  },
  "language_info": {
   "codemirror_mode": {
    "name": "ipython",
    "version": 3
   },
   "file_extension": ".py",
   "mimetype": "text/x-python",
   "name": "python",
   "nbconvert_exporter": "python",
   "pygments_lexer": "ipython3",
   "version": "3.7.0"
  }
 },
 "nbformat": 4,
 "nbformat_minor": 2
}
